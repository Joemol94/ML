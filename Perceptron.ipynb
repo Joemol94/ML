{
 "cells": [
  {
   "cell_type": "code",
   "execution_count": 1,
   "metadata": {},
   "outputs": [],
   "source": [
    "#Required packages\n",
    "import numpy as np\n",
    "import pandas as pd\n",
    "import matplotlib.pyplot as plt"
   ]
  },
  {
   "cell_type": "markdown",
   "metadata": {},
   "source": [
    "I have taken a classification problem of Iris dataset. The target variable being the species.\n",
    "\n",
    "There are three classes of species type. In this task, I have extracted only 2 flower species to make it a binary classification problem."
   ]
  },
  {
   "cell_type": "code",
   "execution_count": 2,
   "metadata": {},
   "outputs": [
    {
     "data": {
      "text/html": [
       "<div>\n",
       "<style scoped>\n",
       "    .dataframe tbody tr th:only-of-type {\n",
       "        vertical-align: middle;\n",
       "    }\n",
       "\n",
       "    .dataframe tbody tr th {\n",
       "        vertical-align: top;\n",
       "    }\n",
       "\n",
       "    .dataframe thead th {\n",
       "        text-align: right;\n",
       "    }\n",
       "</style>\n",
       "<table border=\"1\" class=\"dataframe\">\n",
       "  <thead>\n",
       "    <tr style=\"text-align: right;\">\n",
       "      <th></th>\n",
       "      <th>Item</th>\n",
       "      <th>Sepal.Length</th>\n",
       "      <th>Sepal.Width</th>\n",
       "      <th>Petal.Length</th>\n",
       "      <th>Petal.Width</th>\n",
       "      <th>Species</th>\n",
       "    </tr>\n",
       "  </thead>\n",
       "  <tbody>\n",
       "    <tr>\n",
       "      <th>0</th>\n",
       "      <td>1</td>\n",
       "      <td>5.1</td>\n",
       "      <td>3.5</td>\n",
       "      <td>1.4</td>\n",
       "      <td>0.2</td>\n",
       "      <td>0</td>\n",
       "    </tr>\n",
       "    <tr>\n",
       "      <th>1</th>\n",
       "      <td>2</td>\n",
       "      <td>4.9</td>\n",
       "      <td>3.0</td>\n",
       "      <td>1.4</td>\n",
       "      <td>0.2</td>\n",
       "      <td>0</td>\n",
       "    </tr>\n",
       "    <tr>\n",
       "      <th>2</th>\n",
       "      <td>3</td>\n",
       "      <td>4.7</td>\n",
       "      <td>3.2</td>\n",
       "      <td>1.3</td>\n",
       "      <td>0.2</td>\n",
       "      <td>0</td>\n",
       "    </tr>\n",
       "    <tr>\n",
       "      <th>3</th>\n",
       "      <td>4</td>\n",
       "      <td>4.6</td>\n",
       "      <td>3.1</td>\n",
       "      <td>1.5</td>\n",
       "      <td>0.2</td>\n",
       "      <td>0</td>\n",
       "    </tr>\n",
       "    <tr>\n",
       "      <th>4</th>\n",
       "      <td>5</td>\n",
       "      <td>5.0</td>\n",
       "      <td>3.6</td>\n",
       "      <td>1.4</td>\n",
       "      <td>0.2</td>\n",
       "      <td>0</td>\n",
       "    </tr>\n",
       "  </tbody>\n",
       "</table>\n",
       "</div>"
      ],
      "text/plain": [
       "   Item  Sepal.Length  Sepal.Width  Petal.Length  Petal.Width  Species\n",
       "0     1           5.1          3.5           1.4          0.2        0\n",
       "1     2           4.9          3.0           1.4          0.2        0\n",
       "2     3           4.7          3.2           1.3          0.2        0\n",
       "3     4           4.6          3.1           1.5          0.2        0\n",
       "4     5           5.0          3.6           1.4          0.2        0"
      ]
     },
     "execution_count": 2,
     "metadata": {},
     "output_type": "execute_result"
    }
   ],
   "source": [
    "#Read the csv file\n",
    "data = pd.read_csv('iris.csv')\n",
    "data = data[:100]\n",
    "data['Species'] = np.where(data.iloc[:, -1]=='setosa', 0,1)\n",
    "data.head()"
   ]
  },
  {
   "cell_type": "code",
   "execution_count": 3,
   "metadata": {},
   "outputs": [],
   "source": [
    "#Transform the dataset into a matrix\n",
    "data = np.asmatrix(data, dtype = 'float64')"
   ]
  },
  {
   "cell_type": "code",
   "execution_count": 4,
   "metadata": {},
   "outputs": [],
   "source": [
    "#Define perceptron\n",
    "#initialize num_iter,data\n",
    "def perceptron(data, num_iter):\n",
    "    features = data[:, :-1]\n",
    "    labels = data[:, -1]\n",
    "    \n",
    "    # set weights to zero\n",
    "    w = np.zeros(shape=(1, features.shape[1]+1))\n",
    "    \n",
    "    misclassified_ = [] \n",
    "  \n",
    "    for epoch in range(num_iter): #Iterate over the num of iteration\n",
    "        misclassified = 0\n",
    "        for x, label in zip(features, labels):\n",
    "            x = np.insert(x,0,1)\n",
    "            y = np.dot(w, x.transpose())\n",
    "            target = 1.0 if (y > 0) else 0.0 #If y>0 classify target as 1 else 0\n",
    "            \n",
    "            delta = (label.item(0,0) - target) # Residual\n",
    "            \n",
    "            if(delta): # misclassified\n",
    "                misclassified += 1\n",
    "                w += (delta * x)\n",
    "        \n",
    "        misclassified_.append(misclassified)\n",
    "    return (w, misclassified_)\n",
    "             \n",
    "num_iter = 20\n",
    "#call perceptron function\n",
    "w, misclassified_ = perceptron(data, num_iter)"
   ]
  },
  {
   "cell_type": "code",
   "execution_count": 5,
   "metadata": {},
   "outputs": [
    {
     "name": "stdout",
     "output_type": "stream",
     "text": [
      "[1, 10, 6, 2, 5, 5, 2, 5, 2, 3, 4, 5, 2, 2, 4, 3, 2, 3, 3, 3]\n"
     ]
    }
   ],
   "source": [
    "print(misclassified_)"
   ]
  },
  {
   "cell_type": "markdown",
   "metadata": {},
   "source": [
    "A property of the Perceptron is that if the dataset is linearly separable, then the algorithm is guaranteed to converge at some point!\n",
    "\n",
    "Here, we can observe that when the iteration increases the number of misclassification rate becomes stable."
   ]
  },
  {
   "cell_type": "code",
   "execution_count": 6,
   "metadata": {},
   "outputs": [
    {
     "data": {
      "image/png": "[encoded data removed]",
      "text/plain": [
       "<Figure size 432x288 with 1 Axes>"
      ]
     },
     "metadata": {
      "needs_background": "light"
     },
     "output_type": "display_data"
    }
   ],
   "source": [
    "#plotting number of misclassified samples in each iteration\n",
    "epochs = np.arange(1, num_iter+1)\n",
    "plt.plot(epochs, misclassified_)\n",
    "plt.xlabel('iterations')\n",
    "plt.ylabel('misclassified')\n",
    "plt.show()"
   ]
  },
  {
   "cell_type": "markdown",
   "metadata": {},
   "source": [
    "\n"
   ]
  }
 ],
 "metadata": {
  "kernelspec": {
   "display_name": "Python 3",
   "language": "python",
   "name": "python3"
  },
  "language_info": {
   "codemirror_mode": {
    "name": "ipython",
    "version": 3
   },
   "file_extension": ".py",
   "mimetype": "text/x-python",
   "name": "python",
   "nbconvert_exporter": "python",
   "pygments_lexer": "ipython3",
   "version": "3.8.5"
  }
 },
 "nbformat": 4,
 "nbformat_minor": 4
}
